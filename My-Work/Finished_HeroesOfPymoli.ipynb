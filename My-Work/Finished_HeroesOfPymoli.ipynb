{
 "cells": [
  {
   "cell_type": "markdown",
   "metadata": {},
   "source": [
    "### Heroes Of Pymoli Data Analysis\n",
    "* Females seem to spend more money per purchase than males, though amounting to a significantly smaller portion of the purchasing player base. Heavier marketing towards females may lead to more revenue per person in the future.\n",
    "\n",
    "* Those younger than 10 and those between 35 and 39 average the most money spent per purchase. Children younger than 10 often don't spend their own money, rather, they spend their parents'. We see a decrease in average total per person until individuals hit an age that correlates with higher expendable income, suggesting marketing dollars may be wasted on certain age groups. By marketing to kids under 10 years old (much like Fortnite does) we may be able to tap into a bigger revenue source. Lastly, we may see a compounding purchasing effect between kids under 10 years old and their parents who play games with their kids. This would be an interesting relationship to test later.\n",
    "\n",
    "* It looks like 'Purchase Count' and 'Item Price' may not be as related as easily thought. \"Pursuit, Cudgel of Necromancy\" (1.02) loses to \"Oathbreaker, Last Hope of the Breaking Storm\" (4.23) 8 to 12 despite the fraction of price it boasts. Interestingly, it could be that raising prices for important items does not affect purchase frequency. Regressional analysis could provide better insight on this relationship, as well.\n",
    "-----"
   ]
  },
  {
   "cell_type": "markdown",
   "metadata": {},
   "source": [
    "### Note\n",
    "* Instructions have been included for each segment. You do not have to follow them exactly, but they are included to help you think through the steps."
   ]
  },
  {
   "cell_type": "code",
   "execution_count": null,
   "metadata": {},
   "outputs": [],
   "source": [
    "# Dependencies and Setup\n",
    "import pandas as pd\n",
    "import numpy as np\n",
    "\n",
    "# File to Load (Remember to Change These)\n",
    "file_to_load = \"Resources/purchase_data.csv\"\n",
    "\n",
    "# Read Purchasing File and store into Pandas data frame\n",
    "purchase_data = pd.read_csv(file_to_load)\n",
    "df = pd.DataFrame(purchase_data)"
   ]
  },
  {
   "cell_type": "markdown",
   "metadata": {},
   "source": [
    "## Player Count"
   ]
  },
  {
   "cell_type": "markdown",
   "metadata": {},
   "source": [
    "* Display the total number of players\n"
   ]
  },
  {
   "cell_type": "code",
   "execution_count": null,
   "metadata": {},
   "outputs": [],
   "source": [
    "total_players = df[\"SN\"].nunique()\n",
    "total_df = pd.DataFrame({\"Total Players\" : [total_players]})\n",
    "total_df"
   ]
  },
  {
   "cell_type": "markdown",
   "metadata": {},
   "source": [
    "## Purchasing Analysis (Total)"
   ]
  },
  {
   "cell_type": "markdown",
   "metadata": {},
   "source": [
    "* Run basic calculations to obtain number of unique items, average price, etc.\n",
    "\n",
    "\n",
    "* Create a summary data frame to hold the results\n",
    "\n",
    "\n",
    "* Optional: give the displayed data cleaner formatting\n",
    "\n",
    "\n",
    "* Display the summary data frame\n"
   ]
  },
  {
   "cell_type": "code",
   "execution_count": null,
   "metadata": {
    "scrolled": true
   },
   "outputs": [],
   "source": [
    "unique_items = df[\"Item ID\"].nunique()"
   ]
  },
  {
   "cell_type": "code",
   "execution_count": null,
   "metadata": {},
   "outputs": [],
   "source": [
    "average_price = df[\"Price\"].mean()"
   ]
  },
  {
   "cell_type": "code",
   "execution_count": null,
   "metadata": {},
   "outputs": [],
   "source": [
    "number_purchases = df[\"Item ID\"].count()"
   ]
  },
  {
   "cell_type": "code",
   "execution_count": null,
   "metadata": {},
   "outputs": [],
   "source": [
    "total_rev = df[\"Price\"].sum()"
   ]
  },
  {
   "cell_type": "code",
   "execution_count": null,
   "metadata": {},
   "outputs": [],
   "source": [
    "items_df = pd.DataFrame(\n",
    "    {\"Number of Unique Items\" : [unique_items],\n",
    "     \"Average Price Per Item\" : [average_price],\n",
    "     \"Number of Purchases\" : [number_purchases],\n",
    "     \"Total Revenue\" : [total_rev]}).round(2)\n",
    "items_df[\"Total Revenue\"] = items_df[\"Total Revenue\"].map(\"${:,.2f}\".format)\n",
    "items_df"
   ]
  },
  {
   "cell_type": "markdown",
   "metadata": {},
   "source": [
    "## Gender Demographics"
   ]
  },
  {
   "cell_type": "markdown",
   "metadata": {},
   "source": [
    "* Percentage and Count of Male Players\n",
    "\n",
    "\n",
    "* Percentage and Count of Female Players\n",
    "\n",
    "\n",
    "* Percentage and Count of Other / Non-Disclosed\n",
    "\n",
    "\n"
   ]
  },
  {
   "cell_type": "code",
   "execution_count": null,
   "metadata": {},
   "outputs": [],
   "source": [
    "gender_df = df.drop_duplicates(\"SN\")"
   ]
  },
  {
   "cell_type": "code",
   "execution_count": null,
   "metadata": {},
   "outputs": [],
   "source": [
    "count_males = gender_df[gender_df[\"Gender\"]== \"Male\"].count()\n",
    "count_males = count_males[\"SN\"]\n",
    "percent_males = count_males/total_players*100\n",
    "\n",
    "count_females = gender_df[gender_df[\"Gender\"]== \"Female\"].count()\n",
    "count_females = count_females[\"SN\"]\n",
    "percent_females = count_females/total_players*100\n",
    "\n",
    "count_other = gender_df[gender_df[\"Gender\"]== \"Other / Non-Disclosed\"].count()\n",
    "count_other = count_other[\"SN\"]\n",
    "percent_other = count_other/total_players*100\n",
    "\n",
    "genderstats_df = pd.DataFrame(\n",
    "    {\"Total Count\" : [count_males, count_females, count_other],\n",
    "     \"Percentage of Players\" : [percent_males, percent_females, percent_other]},\n",
    "     index = [\"Male\", \"Female\", \"Other / Non-Disclosed\"]\n",
    ").round(2)\n",
    "genderstats_df"
   ]
  },
  {
   "cell_type": "markdown",
   "metadata": {},
   "source": [
    "\n",
    "## Purchasing Analysis (Gender)"
   ]
  },
  {
   "cell_type": "markdown",
   "metadata": {},
   "source": [
    "* Run basic calculations to obtain purchase count, avg. purchase price, avg. purchase total per person etc. by gender\n",
    "\n",
    "\n",
    "\n",
    "\n",
    "* Create a summary data frame to hold the results\n",
    "\n",
    "\n",
    "* Optional: give the displayed data cleaner formatting\n",
    "\n",
    "\n",
    "* Display the summary data frame"
   ]
  },
  {
   "cell_type": "code",
   "execution_count": null,
   "metadata": {},
   "outputs": [],
   "source": [
    "female_df = df[df[\"Gender\"]== \"Female\"]\n",
    "f_purchase_count = female_df[\"Price\"].count()\n",
    "f_avg_price = female_df[\"Price\"].mean()\n",
    "f_total_val = female_df[\"Price\"].sum()\n",
    "f_per_person = f_total_val/count_females\n",
    "\n",
    "male_df = df[df[\"Gender\"]== \"Male\"]\n",
    "m_purchase_count = male_df[\"Price\"].count()\n",
    "m_avg_price = male_df[\"Price\"].mean()\n",
    "m_total_val = male_df[\"Price\"].sum()\n",
    "m_per_person = m_total_val/count_males\n",
    "\n",
    "other_df = df[df[\"Gender\"]== \"Other / Non-Disclosed\"]\n",
    "o_purchase_count = other_df[\"Price\"].count()\n",
    "o_avg_price = other_df[\"Price\"].mean()\n",
    "o_total_val = other_df[\"Price\"].sum()\n",
    "o_per_person = o_total_val/count_other\n",
    "\n",
    "purchasing_df = pd.DataFrame({\"Purchase Count\" : [f_purchase_count, m_purchase_count, o_purchase_count],\n",
    "                              \"Average Purchase Price\" : [f_avg_price, m_avg_price, o_avg_price],\n",
    "                              \"Total Purchase Value\" : [f_total_val, m_total_val, o_total_val],\n",
    "                              \"Avg Total Purchase Per Person\" : [f_per_person, m_per_person, o_per_person]},\n",
    "                             index = [\"Female\", \"Male\", \"Other / Non-Disclosed\"])\n",
    "purchasing_df[\"Average Purchase Price\"] = purchasing_df[\"Average Purchase Price\"].map(\"${:,.2f}\".format)\n",
    "purchasing_df[\"Total Purchase Value\"] = purchasing_df[\"Total Purchase Value\"].map(\"${:,.2f}\".format)\n",
    "purchasing_df[\"Avg Total Purchase Per Person\"] = purchasing_df[\"Avg Total Purchase Per Person\"].map(\"${:,.2f}\".format)\n",
    "purchasing_df"
   ]
  },
  {
   "cell_type": "markdown",
   "metadata": {},
   "source": [
    "## Age Demographics"
   ]
  },
  {
   "cell_type": "markdown",
   "metadata": {},
   "source": [
    "* Establish bins for ages\n",
    "\n",
    "\n",
    "* Categorize the existing players using the age bins. Hint: use pd.cut()\n",
    "\n",
    "\n",
    "* Calculate the numbers and percentages by age group\n",
    "\n",
    "\n",
    "* Create a summary data frame to hold the results\n",
    "\n",
    "\n",
    "* Optional: round the percentage column to two decimal points\n",
    "\n",
    "\n",
    "* Display Age Demographics Table\n"
   ]
  },
  {
   "cell_type": "code",
   "execution_count": null,
   "metadata": {},
   "outputs": [],
   "source": [
    "bins = [0, 9.99, 14.99, 19.99, 24.99, 29.99, 34.99, 39.99, 100]\n",
    "group_names = [\"<10\", \"10 - 14\", \"15 - 19\", \"20 - 24\", \"25 - 29\", \"30 - 34\", \"35 - 39\", \"40+\"]\n",
    "age_df = df\n",
    "age_df[\"Age Groups\"] = pd.cut(gender_df[\"Age\"], bins, labels=group_names)\n",
    "age_group_df = age_df.groupby(\"Age Groups\")\n",
    "age_count = age_group_df[\"SN\"].count()\n",
    "age_group_df = age_group_df[\"SN\"].agg([\"count\"])\n",
    "age_group_df['Percentage of Players'] = (age_count / total_players) * 100\n",
    "age_group_df['Percentage of Players'] = age_group_df['Percentage of Players'].round(2)\n",
    "age_group_df = age_group_df.rename(columns={'count':'Total Count'})\n",
    "age_group_df"
   ]
  },
  {
   "cell_type": "markdown",
   "metadata": {},
   "source": [
    "## Purchasing Analysis (Age)"
   ]
  },
  {
   "cell_type": "markdown",
   "metadata": {},
   "source": [
    "* Bin the purchase_data data frame by age\n",
    "\n",
    "\n",
    "* Run basic calculations to obtain purchase count, avg. purchase price, avg. purchase total per person etc. in the table below\n",
    "\n",
    "\n",
    "* Create a summary data frame to hold the results\n",
    "\n",
    "\n",
    "* Optional: give the displayed data cleaner formatting\n",
    "\n",
    "\n",
    "* Display the summary data frame"
   ]
  },
  {
   "cell_type": "code",
   "execution_count": null,
   "metadata": {
    "scrolled": false
   },
   "outputs": [],
   "source": [
    "bins = [0, 9.99, 14.99, 19.99, 24.99, 29.99, 34.99, 39.99, 100]\n",
    "group_names = [\"<10\", \"10 - 14\", \"15 - 19\", \"20 - 24\", \"25 - 29\", \"30 - 34\", \"35 - 39\", \"40+\"]\n",
    "p_df = df\n",
    "p_df[\"Age Groups\"] = pd.cut(p_df[\"Age\"], bins, labels=group_names)\n",
    "p_age = p_df.groupby(\"Age Groups\")\n",
    "p_age = p_age[\"Price\"].agg([\"count\", \"mean\", \"sum\"])\n",
    "p_age['Avg Total Per Person'] = p_age['sum']/age_count\n",
    "p_age = p_age.rename(columns={'count':'Purchase Count',\n",
    "                              'mean':'Average Purchase Price',\n",
    "                              'sum':'Total Purchase Value'})\n",
    "p_age['Average Purchase Price'] = p_age['Average Purchase Price'].map(\"${:,.2f}\".format)\n",
    "p_age['Total Purchase Value'] = p_age['Total Purchase Value'].map(\"${:,.2f}\".format)\n",
    "p_age['Avg Total Per Person'] = p_age['Avg Total Per Person'].map(\"${:,.2f}\".format)\n",
    "p_age"
   ]
  },
  {
   "cell_type": "markdown",
   "metadata": {},
   "source": [
    "## Top Spenders"
   ]
  },
  {
   "cell_type": "markdown",
   "metadata": {},
   "source": [
    "* Run basic calculations to obtain the results in the table below\n",
    "\n",
    "\n",
    "* Create a summary data frame to hold the results\n",
    "\n",
    "\n",
    "* Sort the total purchase value column in descending order\n",
    "\n",
    "\n",
    "* Optional: give the displayed data cleaner formatting\n",
    "\n",
    "\n",
    "* Display a preview of the summary data frame\n",
    "\n"
   ]
  },
  {
   "cell_type": "code",
   "execution_count": null,
   "metadata": {},
   "outputs": [],
   "source": [
    "sn_df = df\n",
    "sn_df = sn_df.groupby('SN')\n",
    "sn_df = sn_df['Price'].agg(['count', 'mean', 'sum'])\n",
    "sn_df = sn_df.rename(columns={'count':'Purchase Count',\n",
    "                      'mean':'Average Purchase Price',\n",
    "                      'sum':'Total Purchase Value'})\n",
    "sn_df['Average Purchase Price'] = sn_df['Average Purchase Price'].map(\"${:,.2f}\".format)\n",
    "sn_df['Total Purchase Value'] = sn_df['Total Purchase Value'].map(\"${:,.2f}\".format)\n",
    "sn_df = sn_df.sort_values('Purchase Count',ascending=False)\n",
    "sn_df.head()"
   ]
  },
  {
   "cell_type": "markdown",
   "metadata": {},
   "source": [
    "## Most Popular Items"
   ]
  },
  {
   "cell_type": "markdown",
   "metadata": {},
   "source": [
    "* Retrieve the Item ID, Item Name, and Item Price columns\n",
    "\n",
    "\n",
    "* Group by Item ID and Item Name. Perform calculations to obtain purchase count, item price, and total purchase value\n",
    "\n",
    "\n",
    "* Create a summary data frame to hold the results\n",
    "\n",
    "\n",
    "* Sort the purchase count column in descending order\n",
    "\n",
    "\n",
    "* Optional: give the displayed data cleaner formatting\n",
    "\n",
    "\n",
    "* Display a preview of the summary data frame\n",
    "\n"
   ]
  },
  {
   "cell_type": "code",
   "execution_count": null,
   "metadata": {},
   "outputs": [],
   "source": [
    "item_df = df\n",
    "item_df = item_df.groupby(['Item ID', 'Item Name'])\n",
    "item_df = item_df['Price'].agg(['count', 'mean', 'sum'])\n",
    "item_df = item_df.rename(columns={'count':'Purchase Count',\n",
    "                                  'mean':'Item Price',\n",
    "                                  'sum':'Total Purchase Value'})\n",
    "item_df['Item Price'] = item_df['Item Price'].map(\"${:,.2f}\".format)\n",
    "item_df['Total Purchase Value'] = item_df['Total Purchase Value'].map(\"${:,.2f}\".format)\n",
    "item_df = item_df.sort_values('Purchase Count',ascending=False)\n",
    "item_df.head()"
   ]
  },
  {
   "cell_type": "markdown",
   "metadata": {},
   "source": [
    "## Most Profitable Items"
   ]
  },
  {
   "cell_type": "markdown",
   "metadata": {},
   "source": [
    "* Sort the above table by total purchase value in descending order\n",
    "\n",
    "\n",
    "* Optional: give the displayed data cleaner formatting\n",
    "\n",
    "\n",
    "* Display a preview of the data frame\n",
    "\n"
   ]
  },
  {
   "cell_type": "code",
   "execution_count": null,
   "metadata": {
    "scrolled": true
   },
   "outputs": [],
   "source": [
    "sort_df = df\n",
    "sort_df = sort_df.groupby(['Item ID', 'Item Name'])\n",
    "sort_df = sort_df['Price'].agg(['count', 'mean', 'sum'])\n",
    "sort_df = sort_df.rename(columns={'count':'Purchase Count',\n",
    "                                  'mean':'Item Price',\n",
    "                                  'sum':'Total Purchase Value'})\n",
    "sort_df = sort_df.sort_values('Total Purchase Value',ascending=False)\n",
    "sort_df['Item Price'] = sort_df['Item Price'].map(\"${:,.2f}\".format)\n",
    "sort_df['Total Purchase Value'] = sort_df['Total Purchase Value'].map(\"${:,.2f}\".format)\n",
    "sort_df.head()"
   ]
  },
  {
   "cell_type": "code",
   "execution_count": null,
   "metadata": {},
   "outputs": [],
   "source": []
  }
 ],
 "metadata": {
  "anaconda-cloud": {},
  "kernel_info": {
   "name": "python3"
  },
  "kernelspec": {
   "display_name": "Python 3",
   "language": "python",
   "name": "python3"
  },
  "language_info": {
   "codemirror_mode": {
    "name": "ipython",
    "version": 3
   },
   "file_extension": ".py",
   "mimetype": "text/x-python",
   "name": "python",
   "nbconvert_exporter": "python",
   "pygments_lexer": "ipython3",
   "version": "3.7.1"
  },
  "nteract": {
   "version": "0.2.0"
  }
 },
 "nbformat": 4,
 "nbformat_minor": 2
}
